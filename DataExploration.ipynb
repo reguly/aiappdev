{
 "cells": [
  {
   "cell_type": "markdown",
   "metadata": {},
   "source": [
    "# Felderítő adatelemzés: Adatok struktúrájának, összefüggéseinek felfedezése\n",
    "<a target=\"_blank\" href=\"https://colab.research.google.com/github/reguly/aiappdev/blob/main/DataExploration.ipynb\">\n",
    "  <img src=\"https://colab.research.google.com/assets/colab-badge.svg\" alt=\"Open In Colab\"/>\n",
    "</a>\n",
    "\n",
    "\"Adults\" adathalmaz: https://users.itk.ppke.hu/~regiszo/adult.csv\n",
    "\n",
    "https://archive.ics.uci.edu/dataset/2/adult"
   ]
  },
  {
   "cell_type": "markdown",
   "metadata": {},
   "source": [
    "## Adatok struktúrája\n",
    "Oszlopokban lévő lehetséges értékek:\n",
    "\n",
    "age: folytonos.\n",
    "\n",
    "workclass: Private, Self-emp-not-inc, Self-emp-inc, Federal-gov, Local-gov, State-gov, Without-pay, Never-worked.\n",
    "\n",
    "fnlwgt: folytonos.\n",
    "\n",
    "education: Bachelors, Some-college, 11th, HS-grad, Prof-school, Assoc-acdm, Assoc-voc, 9th, 7th-8th, 12th, Masters, 1st-4th, 10th, Doctorate, 5th-6th, Preschool.\n",
    "\n",
    "education.num: (oktatásban töltött évek száma) folytonos.\n",
    "\n",
    "marital.status: Married-civ-spouse, Divorced, Never-married, Separated, Widowed, Married-spouse-absent, Married-AF-spouse.\n",
    "\n",
    "occupation: Tech-support, Craft-repair, Other-service, Sales, Exec-managerial, Prof-specialty, Handlers-cleaners, Machine-op-inspct, Adm-clerical, Farming-fishing, Transport-moving, Priv-house-serv, Protective-serv, Armed-Forces.\n",
    "\n",
    "relationship: Wife, Own-child, Husband, Not-in-family, Other-relative, Unmarried.\n",
    "\n",
    "race: White, Asian-Pac-Islander, Amer-Indian-Eskimo, Other, Black.\n",
    "\n",
    "sex: Female, Male.\n",
    "\n",
    "capital.gain: folytonos.\n",
    "\n",
    "capital.loss: folytonos.\n",
    "\n",
    "hours.per.week: folytonos.\n",
    "\n",
    "native.country: United-States, Cambodia, England, Puerto-Rico, Canada, Germany, Outlying-US(Guam-USVI-etc), India, Japan, Greece, South, China, Cuba, Iran, Honduras, Philippines, Italy, Poland, Jamaica, Vietnam, Mexico, Portugal, Ireland, France, Dominican-Republic, Laos, Ecuador, Taiwan, Haiti, Columbia, Hungary, Guatemala, Nicaragua, Scotland, Thailand, Yugoslavia, El-Salvador, Trinadad&Tobago, Peru, Hong, Holand-Netherlands.\n",
    "\n",
    "income: >50K,<=50K"
   ]
  },
  {
   "cell_type": "code",
   "execution_count": null,
   "metadata": {},
   "outputs": [],
   "source": [
    "!wget https://users.itk.ppke.hu/~regiszo/adult.csv"
   ]
  },
  {
   "cell_type": "code",
   "execution_count": null,
   "metadata": {},
   "outputs": [],
   "source": [
    "import pandas as pd\n",
    "import numpy as np\n",
    "\n",
    "# Read the CSV file into a DataFrame\n",
    "df = pd.read_csv('adult.csv')\n",
    "df[df == '?'] = np.nan\n",
    "for col in ['workclass', 'occupation', 'native.country']:\n",
    "    df[col].fillna(df[col].mode()[0], inplace=True)\n",
    "    \n",
    "# Select only numeric columns for correlation calculation\n",
    "numeric_df = df.select_dtypes(include=np.number)\n",
    "\n",
    "# Calculate the correlation between the numeric columns\n",
    "correlation = numeric_df.corr()\n",
    "\n",
    "# Display the correlation matrix\n",
    "print(correlation)\n"
   ]
  },
  {
   "cell_type": "markdown",
   "metadata": {},
   "source": [
    "Mennyi férfi és mennyi nő van az adathalmazban?"
   ]
  },
  {
   "cell_type": "code",
   "execution_count": null,
   "metadata": {},
   "outputs": [],
   "source": []
  },
  {
   "cell_type": "markdown",
   "metadata": {},
   "source": [
    "Mennyi a nők átlagéletkora?"
   ]
  },
  {
   "cell_type": "code",
   "execution_count": null,
   "metadata": {},
   "outputs": [],
   "source": []
  },
  {
   "cell_type": "markdown",
   "metadata": {},
   "source": [
    "Mi a német nemzetiségűek aránya az adatban? (native.country oszlop)"
   ]
  },
  {
   "cell_type": "code",
   "execution_count": null,
   "metadata": {},
   "outputs": [],
   "source": []
  },
  {
   "cell_type": "markdown",
   "metadata": {},
   "source": [
    "Mennyien keresnek 50K felett és alatt? Ábrázold!"
   ]
  },
  {
   "cell_type": "code",
   "execution_count": null,
   "metadata": {},
   "outputs": [],
   "source": []
  },
  {
   "cell_type": "markdown",
   "metadata": {},
   "source": [
    "Mi az <=50K keresők átlagos életkora és annak szórása? Mi a >50K-ra ugyanez?"
   ]
  },
  {
   "cell_type": "code",
   "execution_count": null,
   "metadata": {},
   "outputs": [],
   "source": []
  },
  {
   "cell_type": "markdown",
   "metadata": {},
   "source": [
    "Igaz-e, hogy csak legalább gimnáziumi végzettséggel lehet 50K felett keresni? (education – Bachelors, Some-college, HS-grad, Prof-school, Assoc-acdm, Assoc-voc, Masters, Doctorate)"
   ]
  },
  {
   "cell_type": "code",
   "execution_count": null,
   "metadata": {},
   "outputs": [],
   "source": []
  },
  {
   "cell_type": "markdown",
   "metadata": {},
   "source": [
    "Mi az egyes képzettségi szinteken az 50k alatt és felett keresők száma?"
   ]
  },
  {
   "cell_type": "code",
   "execution_count": null,
   "metadata": {},
   "outputs": [],
   "source": []
  },
  {
   "cell_type": "markdown",
   "metadata": {},
   "source": [
    "Számíts ki kor (Age) statisztikákat különböző rasszokra (race), és jelenítsd meg ezeket"
   ]
  },
  {
   "cell_type": "code",
   "execution_count": null,
   "metadata": {},
   "outputs": [],
   "source": []
  },
  {
   "cell_type": "markdown",
   "metadata": {},
   "source": [
    "Mi az 50K alatt és felett keresők száma a különböző korcsoportokban? (10 éves csoportokban)"
   ]
  },
  {
   "cell_type": "code",
   "execution_count": null,
   "metadata": {},
   "outputs": [],
   "source": []
  },
  {
   "cell_type": "markdown",
   "metadata": {},
   "source": [
    "Házas, vagy egyedülálló férfiak közt nagyobb az aránya az 50K felett keresőké? (Házas marital.status: Married-civ-spouse, Married-spouse-absent, vagy Married-AF-spouse)"
   ]
  },
  {
   "cell_type": "code",
   "execution_count": null,
   "metadata": {},
   "outputs": [],
   "source": []
  },
  {
   "cell_type": "markdown",
   "metadata": {},
   "source": [
    "Egyes szektorokban (workclass) mi az 50K alatt és felett kereső száma?"
   ]
  },
  {
   "cell_type": "code",
   "execution_count": null,
   "metadata": {},
   "outputs": [],
   "source": []
  },
  {
   "cell_type": "markdown",
   "metadata": {},
   "source": [
    "Mi az egyes foglalkozásokban (occupation) az 50K alatt és felett keresők száma?"
   ]
  },
  {
   "cell_type": "code",
   "execution_count": null,
   "metadata": {},
   "outputs": [],
   "source": []
  },
  {
   "cell_type": "markdown",
   "metadata": {},
   "source": [
    "Mi a legmagasabb óraszám amit egy ember egy héten dolgozik? (hours.per.week). Hány ember dolgozik ennyit, és milyen arányban keresnek 50K felett?"
   ]
  },
  {
   "cell_type": "code",
   "execution_count": null,
   "metadata": {},
   "outputs": [],
   "source": []
  },
  {
   "cell_type": "markdown",
   "metadata": {},
   "source": [
    "Átlagosan hány órát dolgoznak egy héten a sokat (50K felett) és keveset (50K alatt) keresők különböző országokban? Ábrázold!"
   ]
  },
  {
   "cell_type": "code",
   "execution_count": null,
   "metadata": {},
   "outputs": [],
   "source": []
  },
  {
   "cell_type": "markdown",
   "metadata": {},
   "source": [
    "Mi a korrelláció az egyes oszlopok közt? (mennyire mozognak együtt fel-le, vagy épp ellentétes irányba)"
   ]
  },
  {
   "cell_type": "code",
   "execution_count": null,
   "metadata": {},
   "outputs": [],
   "source": []
  },
  {
   "cell_type": "markdown",
   "metadata": {},
   "source": [
    "Képes a ChatGPT/Gemini a többi mező értéke alapján az \"income\" mező értékére becslést adó algoritmust létrehozni? Ez határozottan túlmutat az eddig tanult módszereken, de általában az adatelemzési feladatok egyik végcélja."
   ]
  },
  {
   "cell_type": "code",
   "execution_count": null,
   "metadata": {},
   "outputs": [],
   "source": []
  },
  {
   "cell_type": "markdown",
   "metadata": {},
   "source": [
    "# Meg tudjuk-e ezt \"egyben\" oldani?\n",
    "\n",
    "Milyen jó lenne, ha az LLM: megnézné az adat strukturáját, elvégezne alap elemzéseket, és az eredményeket értelmezé, esetleg egy összefoglaló jelentést is készítene? Nem megy egyben, inkább lépésről lépésre:\n",
    "\n",
    "- Írassunk kódot a mezők neveinek és lehetséges értékeinek kinyerésére\n",
    "- Írassunk kódot ami egy ilyen strukturájú fájl (adjuk meg a struktúráját) felfedező adatelemzését végző kódot generálja (ChatGPT reasoning). Példa prompt (az adat strukturájának leírása után):\n",
    "```\n",
    "Help me write python code to explore this dataset, stored in a file named adult.csv, that I can paste into a jupyter notebook. Generate a number of statistics, and plot potentially relevant figures. Explore potentially interesting correlations and dependencies within the data\n",
    "```\n",
    "- Írassunk kódot, ami ugyanezt szöveges formában teszi, hogy utána azt egy LLM-nek lehessen beadni abból a célból, hogy elkészítsen egy jelentést a főbb konklúziókról.\n",
    "- Írassunk kódot a jelentés elkészítéséhez, mely ábrákat is tartalmaz."
   ]
  },
  {
   "cell_type": "markdown",
   "metadata": {},
   "source": []
  }
 ],
 "metadata": {
  "kernelspec": {
   "display_name": "base",
   "language": "python",
   "name": "python3"
  },
  "language_info": {
   "codemirror_mode": {
    "name": "ipython",
    "version": 3
   },
   "file_extension": ".py",
   "mimetype": "text/x-python",
   "name": "python",
   "nbconvert_exporter": "python",
   "pygments_lexer": "ipython3",
   "version": "3.11.5"
  }
 },
 "nbformat": 4,
 "nbformat_minor": 2
}
