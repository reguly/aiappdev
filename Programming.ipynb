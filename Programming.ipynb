{
 "cells": [
  {
   "cell_type": "markdown",
   "id": "18aa7324",
   "metadata": {},
   "source": [
    "\n",
    "# MI alapú alkalmazásfejlesztés\n",
    "\n",
    "<a target=\"_blank\" href=\"https://colab.research.google.com/github/reguly/aiappdev/blob/main/Programming.ipynb\">\n",
    "  <img src=\"https://colab.research.google.com/assets/colab-badge.svg\" alt=\"Open In Colab\"/>\n",
    "</a>\n"
   ]
  },
  {
   "cell_type": "code",
   "execution_count": 1,
   "id": "5f008efc",
   "metadata": {},
   "outputs": [],
   "source": [
    "import os\n",
    "os.environ['OPENAI_API_KEY'] = '' #!!!! itt kell megadni az API kulcsot"
   ]
  },
  {
   "cell_type": "code",
   "execution_count": null,
   "id": "7a436eda-48cf-45f5-8891-e40395f931c5",
   "metadata": {},
   "outputs": [],
   "source": [
    "# openai python csomag betöltése\n",
    "from openai import OpenAI\n",
    "# chat kliens létrehozása\n",
    "client = OpenAI()\n",
    "\n",
    "# chat üzenetek elküldése és válasz fogadása\n",
    "completion = client.chat.completions.create(\n",
    "  model=\"gpt-4o-mini\",\n",
    "  messages=[\n",
    "    {\"role\": \"system\", \"content\": \"Egy versíró művész vagy, aki hétköznapi helyzetek alapján ír színes, elgondolkodtató verseket.\"},\n",
    "    {\"role\": \"user\", \"content\": \"Írj egy verset a hétvégi korán kelés fájdalmáról.\"}\n",
    "  ]\n",
    ")\n",
    "\n",
    "print(completion.choices[0].message.content)"
   ]
  },
  {
   "cell_type": "code",
   "execution_count": null,
   "id": "0f16e839-0d27-41e4-b789-1740045e3646",
   "metadata": {},
   "outputs": [],
   "source": [
    "from openai import OpenAI\n",
    "client = OpenAI()\n",
    "\n",
    "# üzenetek egymásutánjának küldése és válasz\n",
    "response = client.chat.completions.create(\n",
    "  model=\"gpt-4o-mini\",\n",
    "  messages=[\n",
    "    {\"role\": \"system\", \"content\": \"You are a helpful assistant.\"},\n",
    "    {\"role\": \"user\", \"content\": \"Who won the world series in 2020?\"},\n",
    "    {\"role\": \"assistant\", \"content\": \"The Los Angeles Dodgers won the World Series in 2020.\"},\n",
    "    {\"role\": \"user\", \"content\": \"Where was it played?\"}\n",
    "  ]\n",
    ")\n",
    "response.model_dump()\n"
   ]
  },
  {
   "cell_type": "code",
   "execution_count": null,
   "id": "74493c97-cfca-4ffd-9231-9aa8183aef8a",
   "metadata": {},
   "outputs": [],
   "source": [
    "from openai import OpenAI\n",
    "client = OpenAI()\n",
    "\n",
    "response = client.chat.completions.create(\n",
    "  model=\"gpt-4o-mini\",\n",
    "  response_format={ \"type\": \"json_object\" }, # <-- új mező\n",
    "  messages=[\n",
    "    {\"role\": \"system\", \"content\": \"You are a helpful assistant designed to output JSON.\"},\n",
    "    {\"role\": \"user\", \"content\": \"Who won the world series in 2020? Answer with year and winner fields.\"} # <-- megmondjuk mik a fő mezők\n",
    "  ]\n",
    ")\n",
    "print(response.choices[0].message.content)\n",
    "import json\n",
    "my_dict = json.loads(response.choices[0].message.content)\n",
    "print(my_dict)\n",
    "print(my_dict['winner'])\n",
    "print(my_dict['year'])"
   ]
  },
  {
   "cell_type": "code",
   "execution_count": null,
   "id": "0bf41d65-2ceb-46ce-ad5b-e7231de86871",
   "metadata": {},
   "outputs": [],
   "source": [
    "from openai import OpenAI\n",
    "client = OpenAI()\n",
    "\n",
    "# Példa \"CV\"\n",
    "student_1_description = \"David Nguyen is a sophomore majoring in computer science at Stanford University. He is Asian American and has a 3.8 GPA. David is known for his programming skills and is an active member of the university's Robotics Club. He hopes to pursue a career in artificial intelligence after graduating.\"\n",
    "\n",
    "# Prompt amiben leírjuk mit szeretnénk kinyerni a szövegből\n",
    "prompt_1 = f'''\n",
    "Please extract the following information from the given text and return it as a JSON object:\n",
    "\n",
    "name\n",
    "major\n",
    "school\n",
    "grades\n",
    "club\n",
    "\n",
    "This is the body of text to extract the information from:\n",
    "{student_1_description}\n",
    "'''\n",
    "\n",
    "# Generating response back from gpt-4o-mini\n",
    "openai_response = client.chat.completions.create(\n",
    "    model = 'gpt-4o-mini',\n",
    "    messages = [{'role': 'user', 'content': prompt_1}]\n",
    ")\n",
    "\n",
    "print(openai_response.choices[0].message.content)"
   ]
  },
  {
   "cell_type": "code",
   "execution_count": 6,
   "id": "c086e2ec-68ee-4660-b154-0e70cf0dbef4",
   "metadata": {},
   "outputs": [],
   "source": [
    "# diák adatainak feldolgozása - valóságban egy adatbázisba mentene\n",
    "def submit_student_info(name, major, school, grades, club):\n",
    "    print(f\"Student Name: {name}\")\n",
    "    print(f\"Major: {major}\")\n",
    "    print(f\"School: {school}\")\n",
    "    print(f\"Grades: {grades}\")\n",
    "    print(f\"Club: {club}\")\n",
    "\n",
    "# fentebbi függvény LLM számára érthető leírása\n",
    "student_custom_functions = [\n",
    "    {\n",
    "        'name': 'submit_student_info',\n",
    "        'description': 'Submit student information for processing',\n",
    "        'parameters': {\n",
    "            'type': 'object',\n",
    "            'properties': {\n",
    "                'name': {\n",
    "                    'type': 'string',\n",
    "                    'description': 'Name of the person'\n",
    "                },\n",
    "                'major': {\n",
    "                    'type': 'string',\n",
    "                    'description': 'Major subject.'\n",
    "                },\n",
    "                'school': {\n",
    "                    'type': 'string',\n",
    "                    'description': 'The university name.'\n",
    "                },\n",
    "                'grades': {\n",
    "                    'type': 'integer',\n",
    "                    'description': 'GPA of the student.'\n",
    "                },\n",
    "                'club': {\n",
    "                    'type': 'string',\n",
    "                    'description': 'School club for extracurricular activities. '\n",
    "                }\n",
    "                \n",
    "            }\n",
    "        }\n",
    "    }\n",
    "]\n",
    "\n"
   ]
  },
  {
   "cell_type": "code",
   "execution_count": null,
   "id": "13b5c937-78e1-4b80-b8c2-74d92ccdfee1",
   "metadata": {},
   "outputs": [],
   "source": [
    "from openai import OpenAI\n",
    "import json\n",
    "client = OpenAI()\n",
    "\n",
    "# diákok \"CV\"-i\n",
    "student_2_description=\"Ravi Patel is a sophomore majoring in computer science at the University of Michigan. He is South Asian Indian American and has a 3.7 GPA. Ravi is an active member of the university's Chess Club and the South Asian Student Association. He hopes to pursue a career in software engineering after graduating.\"\n",
    "student_1_description = \"David Nguyen is a sophomore majoring in computer science at Stanford University. He is Asian American and has a 3.8 GPA. David is known for his programming skills and is an active member of the university's Robotics Club. He hopes to pursue a career in artificial intelligence after graduating.\"\n",
    "\n",
    "prompt1 = '''\n",
    "I need to submit structured student information for processing to a database. This is the body of text to extract the information from:\n",
    "'''\n",
    "\n",
    "student_description = [prompt1+student_1_description,prompt1+student_2_description]\n",
    "for i in student_description:\n",
    "    response = client.chat.completions.create(\n",
    "        model = 'gpt-4o-mini',\n",
    "        messages = [{'role': 'user', 'content': i}],\n",
    "        functions = student_custom_functions,\n",
    "        function_call = 'auto'\n",
    "    )\n",
    "\n",
    "    # válasz JSON alapú értelmezése\n",
    "    print(response.model_dump())\n",
    "    # függvényhívás paramétereinek kinyerése\n",
    "    json_response = json.loads(response.choices[0].message.function_call.arguments)\n",
    "    print(json_response)\n",
    "    # függvény meghívása\n",
    "    submit_student_info(**json_response)\n",
    "\n"
   ]
  },
  {
   "cell_type": "markdown",
   "id": "cd6afd39",
   "metadata": {},
   "source": [
    "### Feladat:\n",
    "Módosítsuk a fentebbit úgy, hogy egy XLS fájlba írja (végére hozzátegye) az újabb bejegyzéseket"
   ]
  },
  {
   "cell_type": "code",
   "execution_count": null,
   "id": "cbefedd5",
   "metadata": {},
   "outputs": [],
   "source": []
  },
  {
   "cell_type": "markdown",
   "id": "90b64f80",
   "metadata": {},
   "source": [
    "### Feladat:\n",
    "\n",
    "Eszközhasználó AI ágens: AI alapú ágens létrehozása, aminek adunk 1-2 program eszközt, amivel feladatot képes elvégezni. Pl. aktuális időjárás lekérése. Vagy cég elemzés, közelmúlt tőzsdei értékei alapján (yahoo finance API).  "
   ]
  },
  {
   "cell_type": "markdown",
   "id": "05d51005",
   "metadata": {},
   "source": []
  }
 ],
 "metadata": {
  "kernelspec": {
   "display_name": "langchain",
   "language": "python",
   "name": "python3"
  },
  "language_info": {
   "codemirror_mode": {
    "name": "ipython",
    "version": 3
   },
   "file_extension": ".py",
   "mimetype": "text/x-python",
   "name": "python",
   "nbconvert_exporter": "python",
   "pygments_lexer": "ipython3",
   "version": "3.12.4"
  }
 },
 "nbformat": 4,
 "nbformat_minor": 5
}
