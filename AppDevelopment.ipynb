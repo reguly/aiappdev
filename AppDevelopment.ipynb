{
  "cells": [
    {
      "cell_type": "markdown",
      "metadata": {
        "id": "viqVm_rReh-M"
      },
      "source": [
        "\n",
        "# MI alapú alkalmazásfejlesztés\n",
        "\n",
        "<a target=\"_blank\" href=\"https://colab.research.google.com/github/reguly/aiappdev/blob/main/AppDevelopment.ipynb\">\n",
        "  <img src=\"https://colab.research.google.com/assets/colab-badge.svg\" alt=\"Open In Colab\"/>\n",
        "</a>\n"
      ]
    },
    {
      "cell_type": "code",
      "execution_count": 2,
      "metadata": {
        "collapsed": true,
        "id": "isSfqHJAdSB4"
      },
      "outputs": [],
      "source": [
        "%%capture\n",
        "# openai python csomag telepítése\n",
        "!pip install openai\n",
        "# grafikus felülethez gradio\n",
        "!pip install gradio\n",
        "# egyéb később használt csomagok\n",
        "!pip install requests\n",
        "!pip install beautifulsoup4\n",
        "!pip install markdownify"
      ]
    },
    {
      "cell_type": "code",
      "execution_count": 3,
      "metadata": {
        "id": "iwVpn186dnlb"
      },
      "outputs": [],
      "source": [
        "import os\n",
        "os.environ['OPENAI_API_KEY'] = '' #!!!! itt kell megadni az API kulcsot"
      ]
    },
    {
      "cell_type": "code",
      "execution_count": null,
      "metadata": {
        "id": "XCP0CAY8dVzo"
      },
      "outputs": [],
      "source": [
        "from openai import OpenAI\n",
        "client = OpenAI()\n",
        "\n",
        "completion = client.chat.completions.create(\n",
        "  model=\"gpt-4o-mini\",\n",
        "  messages=[\n",
        "    {\"role\": \"system\", \"content\": \"Egy versíró művész vagy, aki hétköznapi helyzetek alapján ír színes, elgondolkodtató verseket.\"},\n",
        "    {\"role\": \"user\", \"content\": \"Írj egy verset a hétvégi korán kelés fájdalmáról.\"}\n",
        "  ]\n",
        ")\n",
        "print(\"A válasz: \\n\\n\")\n",
        "print(completion.choices[0].message.content)"
      ]
    },
    {
      "cell_type": "code",
      "execution_count": null,
      "metadata": {
        "id": "jd3F4Yrtda3M"
      },
      "outputs": [],
      "source": [
        "print(\"A teljes válasz: \\n\\n\")\n",
        "print(completion.to_json())"
      ]
    },
    {
      "cell_type": "markdown",
      "source": [
        "## Chatbot fejlesztés\n",
        "Használjuk az openai chat completions API-t egy chatbot implementációjára. Az input() függvénnyel a user-től bekérjünk szöveget. messages tömbbe tároljuk az oda-vissza üzeneteket (a megfelelő role user/assistant megjelölésekkel). Addig ismételjük amíg a user válasza nem \"exit\"."
      ],
      "metadata": {
        "id": "TJo5eeySCbYt"
      }
    },
    {
      "cell_type": "code",
      "source": [
        "# prompt: now create a simple gradio chat interface out of this. use gradio's ChatInterface. Consider that The 'tuples' format for chatbot messages is deprecated and will be removed in a future version of Gradio. Please set type='messages' instead, which uses openai-style 'role' and 'content' keys.\n",
        "\n",
        "import gradio as gr\n",
        "import os\n",
        "from openai import OpenAI\n",
        "\n",
        "client = OpenAI()\n",
        "\n",
        "\n",
        "def chat_with_openai(message, history):\n",
        "    # Add the user's message to the history\n",
        "    history.append({\"role\": \"user\", \"content\": message})\n",
        "\n",
        "    # Send the conversation history to OpenAI's Chat Completion API\n",
        "    response = client.chat.completions.create(\n",
        "        model=\"gpt-4o-mini\",\n",
        "        messages=history\n",
        "    )\n",
        "\n",
        "    # Extract the assistant's response from the API response\n",
        "    assistant_message = response.choices[0].message.content\n",
        "\n",
        "    # Add the assistant's response to the history\n",
        "    history.append({\"role\": \"assistant\", \"content\": assistant_message})\n",
        "    print(history)\n",
        "\n",
        "    return assistant_message\n",
        "\n",
        "# Create a Gradio ChatInterface\n",
        "demo = gr.ChatInterface(\n",
        "    fn=chat_with_openai,\n",
        "    type=\"messages\",\n",
        "    title=\"OpenAI Chatbot\"\n",
        ")\n",
        "\n",
        "# Launch the interface\n",
        "demo.launch()"
      ],
      "metadata": {
        "id": "UQ7bvSy3ELCS"
      },
      "execution_count": null,
      "outputs": []
    },
    {
      "cell_type": "markdown",
      "metadata": {
        "id": "c5w92nyKgr-J"
      },
      "source": [
        "## Strukturált válasz\n"
      ]
    },
    {
      "cell_type": "code",
      "execution_count": null,
      "metadata": {
        "id": "ALxd-ZR0fxDv"
      },
      "outputs": [],
      "source": [
        "from openai import OpenAI\n",
        "client = OpenAI()\n",
        "\n",
        "response = client.chat.completions.create(\n",
        "  model=\"gpt-4o-mini\",\n",
        "  response_format={ \"type\": \"json_object\" },\n",
        "  messages=[\n",
        "    {\"role\": \"system\", \"content\": \"You are a helpful assistant designed to output JSON.\"},\n",
        "    {\"role\": \"user\", \"content\": \"Who won the world series in 2020?\"}\n",
        "  ]\n",
        ")\n",
        "\n",
        "import json\n",
        "my_dict = json.loads(response.choices[0].message.content)\n",
        "print(\"Teljes válasz python dictionary:\")\n",
        "print(my_dict)\n",
        "print(json.dumps(my_dict, indent=4))\n",
        "print(\"\\n\")\n",
        "print(f'A válasz: a győztes a {my_dict[\"winner\"]} csapat volt {my_dict[\"year\"]}-ban.')\n",
        "\n"
      ]
    },
    {
      "cell_type": "code",
      "execution_count": null,
      "metadata": {
        "id": "GoAWCtbSgIyK"
      },
      "outputs": [],
      "source": [
        "student_1_description = \"David Nguyen is a sophomore majoring in computer science at Stanford University. He is Asian American and has a 3.8 GPA. David is known for his programming skills and is an active member of the university's Robotics Club. He hopes to pursue a career in artificial intelligence after graduating.\"\n",
        "\n",
        "# A simple prompt to extract information from \"student_description\" in a JSON format.\n",
        "prompt_1 = f'''\n",
        "Please extract the following information from the given text and return it as a JSON object:\n",
        "\n",
        "name\n",
        "major\n",
        "school\n",
        "grades\n",
        "club\n",
        "\n",
        "This is the body of text to extract the information from:\n",
        "{student_1_description}\n",
        "'''\n",
        "\n",
        "# Generating response back from gpt-4o-mini\n",
        "openai_response = client.chat.completions.create(\n",
        "    model = 'gpt-4o-mini',\n",
        "    response_format={ \"type\": \"json_object\" },\n",
        "    messages = [{'role': 'user', 'content': prompt_1}]\n",
        ")\n",
        "\n",
        "print(openai_response.choices[0].message.content)\n",
        "\n"
      ]
    },
    {
      "cell_type": "markdown",
      "source": [
        "## Weblap készítés adatok megjelenítéséhez\n",
        "Python Flask szerver\n",
        "Mivel colab-ban futunk, meg kell oldani, hogy elérhető legyen a szerver számunkra is. Erre való az ngrok. Ha saját gépen dolgozunk, elég a flask."
      ],
      "metadata": {
        "id": "AEiq-r9CQMbj"
      }
    },
    {
      "cell_type": "code",
      "source": [
        "!pip install flask-ngrok\n",
        "!pip install pyngrok\n",
        "from pyngrok import ngrok, conf\n",
        "conf.get_default().auth_token = '' #NGROK API KEY"
      ],
      "metadata": {
        "id": "H2ObohtbLsyV"
      },
      "execution_count": null,
      "outputs": []
    },
    {
      "cell_type": "code",
      "source": [
        "import os\n",
        "import threading\n",
        "\n",
        "from flask import Flask\n",
        "from pyngrok import ngrok\n",
        "\n",
        "app = Flask(__name__)\n",
        "port = \"5000\"\n",
        "\n",
        "# Open a ngrok tunnel to the HTTP server\n",
        "public_url = ngrok.connect(port).public_url\n",
        "print('Itt lehet csatlakozni: '+public_url)\n",
        "\n",
        "\n",
        "# Update any base URLs to use the public ngrok URL\n",
        "app.config[\"BASE_URL\"] = public_url\n",
        "\n",
        "# Define Flask routes\n",
        "@app.route(\"/\")\n",
        "def index():\n",
        "    return \"Hello from Colab!\"\n",
        "\n",
        "# Start the Flask server in a new thread\n",
        "app.run(debug=True)"
      ],
      "metadata": {
        "id": "aDMYPB3YL2LR"
      },
      "execution_count": null,
      "outputs": []
    },
    {
      "cell_type": "markdown",
      "metadata": {
        "id": "lbF78mIOfu4d"
      },
      "source": [
        "## Weblapok letöltése, értelmezése"
      ]
    },
    {
      "cell_type": "code",
      "execution_count": null,
      "metadata": {
        "id": "6dlOy5y3TGKW"
      },
      "outputs": [],
      "source": [
        "import markdownify\n",
        "import requests\n",
        "from bs4 import BeautifulSoup\n",
        "\n",
        "def beautifulsoup_web_scrape_url(url):\n",
        "  headers = {'User-Agent': 'Mozilla/5.0 (Windows NT 10.0; Win64; x64) AppleWebKit/537.36 (KHTML, like Gecko) Chrome/105.0.0.0 Safari/537.36'}\n",
        "  response = requests.get(url, headers=headers)\n",
        "  soup = BeautifulSoup(response.content, 'html.parser')\n",
        "  return str(soup)\n",
        "\n",
        "url = \"https://itk.ppke.hu/\"\n",
        "\n",
        "html_data = beautifulsoup_web_scrape_url(url)\n",
        "\n",
        "# convert html to markdown\n",
        "markdown_data = markdownify.markdownify(html_data, heading_style=\"ATX\")"
      ]
    },
    {
      "cell_type": "code",
      "execution_count": null,
      "metadata": {
        "id": "_V5__GYWga9j"
      },
      "outputs": [],
      "source": [
        "print(\"Eredeti HTML adat: \")\n",
        "print(html_data)"
      ]
    },
    {
      "cell_type": "code",
      "execution_count": null,
      "metadata": {
        "id": "g6iCeSdagfjN"
      },
      "outputs": [],
      "source": [
        "print(\"Markdown adat: \")\n",
        "print(markdown_data)"
      ]
    },
    {
      "cell_type": "code",
      "execution_count": null,
      "metadata": {
        "id": "427oJRt2gKLR"
      },
      "outputs": [],
      "source": [
        "# markdown formázott megjelenítése\n",
        "from IPython.display import display, Markdown, Latex\n",
        "display(Markdown(markdown_data))"
      ]
    },
    {
      "cell_type": "markdown",
      "metadata": {
        "id": "2Hn-0XGcJuQU"
      },
      "source": [
        "## Függvényhívás\n"
      ]
    },
    {
      "cell_type": "code",
      "execution_count": null,
      "metadata": {
        "id": "EXAB6W0KgOhV"
      },
      "outputs": [],
      "source": [
        "# diák adatainak feldolgozása - valóságban egy adatbázisba mentene\n",
        "def submit_student_info(name, major, school, grades, club):\n",
        "    print(f\"Student Name: {name}\")\n",
        "    print(f\"Major: {major}\")\n",
        "    print(f\"School: {school}\")\n",
        "    print(f\"Grades: {grades}\")\n",
        "    print(f\"Club: {club}\")\n",
        "\n",
        "# fentebbi függvény LLM számára érthető leírása\n",
        "student_custom_functions = [\n",
        "    {\n",
        "        'name': 'submit_student_info',\n",
        "        'description': 'Submit student information for processing',\n",
        "        'parameters': {\n",
        "            'type': 'object',\n",
        "            'properties': {\n",
        "                'name': {\n",
        "                    'type': 'string',\n",
        "                    'description': 'Name of the person'\n",
        "                },\n",
        "                'major': {\n",
        "                    'type': 'string',\n",
        "                    'description': 'Major subject.'\n",
        "                },\n",
        "                'school': {\n",
        "                    'type': 'string',\n",
        "                    'description': 'The university name.'\n",
        "                },\n",
        "                'grades': {\n",
        "                    'type': 'integer',\n",
        "                    'description': 'GPA of the student.'\n",
        "                },\n",
        "                'club': {\n",
        "                    'type': 'string',\n",
        "                    'description': 'School club for extracurricular activities. '\n",
        "                }\n",
        "\n",
        "            }\n",
        "        }\n",
        "    }\n",
        "]"
      ]
    },
    {
      "cell_type": "code",
      "execution_count": null,
      "metadata": {
        "colab": {
          "base_uri": "https://localhost:8080/"
        },
        "id": "FRK9452cJxqg",
        "outputId": "e61f1106-a68a-4af4-b5b3-93ef57e0adad"
      },
      "outputs": [
        {
          "name": "stdout",
          "output_type": "stream",
          "text": [
            "{'id': 'chatcmpl-AIsR1RR1mSYpwTCKhx9izJFLYBsBI', 'choices': [{'finish_reason': 'function_call', 'index': 0, 'logprobs': None, 'message': {'content': None, 'refusal': None, 'role': 'assistant', 'function_call': {'arguments': '{\"name\":\"David Nguyen\",\"major\":\"computer science\",\"school\":\"Stanford University\",\"grades\":3.8,\"club\":\"Robotics Club\"}', 'name': 'submit_student_info'}, 'tool_calls': None}}], 'created': 1729062515, 'model': 'gpt-4o-mini-2024-07-18', 'object': 'chat.completion', 'service_tier': None, 'system_fingerprint': 'fp_e2bde53e6e', 'usage': {'completion_tokens': 39, 'prompt_tokens': 168, 'total_tokens': 207, 'completion_tokens_details': {'audio_tokens': None, 'reasoning_tokens': 0}, 'prompt_tokens_details': {'audio_tokens': None, 'cached_tokens': 0}}}\n",
            "{'name': 'David Nguyen', 'major': 'computer science', 'school': 'Stanford University', 'grades': 3.8, 'club': 'Robotics Club'}\n",
            "Student Name: David Nguyen\n",
            "Major: computer science\n",
            "School: Stanford University\n",
            "Grades: 3.8\n",
            "Club: Robotics Club\n",
            "{'id': 'chatcmpl-AIsR5o2jgLTnjPk4aOqfxPLJyoV62', 'choices': [{'finish_reason': 'function_call', 'index': 0, 'logprobs': None, 'message': {'content': None, 'refusal': None, 'role': 'assistant', 'function_call': {'arguments': '{\"name\":\"Ravi Patel\",\"major\":\"computer science\",\"school\":\"University of Michigan\",\"grades\":3.7,\"club\":\"Chess Club\"}', 'name': 'submit_student_info'}, 'tool_calls': None}}], 'created': 1729062519, 'model': 'gpt-4o-mini-2024-07-18', 'object': 'chat.completion', 'service_tier': None, 'system_fingerprint': 'fp_e2bde53e6e', 'usage': {'completion_tokens': 39, 'prompt_tokens': 172, 'total_tokens': 211, 'completion_tokens_details': {'audio_tokens': None, 'reasoning_tokens': 0}, 'prompt_tokens_details': {'audio_tokens': None, 'cached_tokens': 0}}}\n",
            "{'name': 'Ravi Patel', 'major': 'computer science', 'school': 'University of Michigan', 'grades': 3.7, 'club': 'Chess Club'}\n",
            "Student Name: Ravi Patel\n",
            "Major: computer science\n",
            "School: University of Michigan\n",
            "Grades: 3.7\n",
            "Club: Chess Club\n"
          ]
        }
      ],
      "source": [
        "from openai import OpenAI\n",
        "import json\n",
        "client = OpenAI()\n",
        "\n",
        "# diákok \"CV\"-i\n",
        "student_2_description=\"Ravi Patel is a sophomore majoring in computer science at the University of Michigan. He is South Asian Indian American and has a 3.7 GPA. Ravi is an active member of the university's Chess Club and the South Asian Student Association. He hopes to pursue a career in software engineering after graduating.\"\n",
        "student_1_description = \"David Nguyen is a sophomore majoring in computer science at Stanford University. He is Asian American and has a 3.8 GPA. David is known for his programming skills and is an active member of the university's Robotics Club. He hopes to pursue a career in artificial intelligence after graduating.\"\n",
        "\n",
        "prompt1 = '''\n",
        "I need to submit structured student information for processing to a database. This is the body of text to extract the information from:\n",
        "'''\n",
        "\n",
        "student_description = [prompt1+student_1_description,prompt1+student_2_description]\n",
        "for i in student_description:\n",
        "    response = client.chat.completions.create(\n",
        "        model = 'gpt-4o-mini',\n",
        "        messages = [{'role': 'user', 'content': i}],\n",
        "        functions = student_custom_functions,\n",
        "        function_call = 'auto'\n",
        "    )\n",
        "\n",
        "    # válasz JSON alapú értelmezése\n",
        "    print(response.model_dump())\n",
        "    # függvényhívás paramétereinek kinyerése\n",
        "    json_response = json.loads(response.choices[0].message.function_call.arguments)\n",
        "    print(json_response)\n",
        "    # függvény meghívása\n",
        "    submit_student_info(**json_response)"
      ]
    },
    {
      "cell_type": "code",
      "execution_count": null,
      "metadata": {
        "id": "8bBpZTkYJ4t6"
      },
      "outputs": [],
      "source": []
    }
  ],
  "metadata": {
    "colab": {
      "provenance": []
    },
    "kernelspec": {
      "display_name": "Python 3",
      "name": "python3"
    },
    "language_info": {
      "name": "python"
    }
  },
  "nbformat": 4,
  "nbformat_minor": 0
}