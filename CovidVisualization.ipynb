{
 "cells": [
  {
   "cell_type": "markdown",
   "metadata": {},
   "source": [
    "# COVID-19 járványadatok vizualizációja\n",
    "<a target=\"_blank\" href=\"https://colab.research.google.com/github/reguly/aiappdev/blob/main/CovidVisualization.ipynb\">\n",
    "  <img src=\"https://colab.research.google.com/assets/colab-badge.svg\" alt=\"Open In Colab\"/>\n",
    "</a>"
   ]
  },
  {
   "cell_type": "code",
   "execution_count": null,
   "metadata": {},
   "outputs": [],
   "source": [
    "# Letölthető fájl az adatokkal - magyar statisztikák\n",
    "!wget https://users.itk.ppke.hu/~regiszo/korona_hun.xlsx\n",
    "# Letölthető tömörített fájl az adatokkal - szimulációs eredmények\n",
    "!wget https://users.itk.ppke.hu/~regiszo/covid_data.tgz\n",
    "!tar -xvzf covid_data.tgz"
   ]
  },
  {
   "cell_type": "markdown",
   "metadata": {},
   "source": [
    "Első lépések: készítsünk ábrát a fertőzöttek számának alakulásáról\n",
    "- X tengelyen dátumok\n",
    "- “Lyukak” az adatban – (hétvége, heti jelentés) “interpoláljunk” (töltsük ki adatokkal a lyukakat amik a lyuk előtti és azt követő értékek közt vannak)\n"
   ]
  },
  {
   "cell_type": "code",
   "execution_count": null,
   "metadata": {},
   "outputs": [],
   "source": []
  },
  {
   "cell_type": "markdown",
   "metadata": {},
   "source": [
    "Készítsünk további ábrákat, diagramokat\n",
    "1. Aktív fertőzöttek – gyógyultak – elhunytak egymáson (stacked)\n",
    "2. Új fertőzöttek száma, és a 7 napos mozgóátlag\n",
    "3. Kórházi ápoltak száma\n",
    "4. Új elhunytak száma\n",
    "- Kórházi ápoltak milyen aránya?\n",
    "5. Hatósági házi karanténban lévők száma\n",
    "- Aktív fertőzöttek arányában?\n",
    "6. Növekedési faktor – vonal 1.0-nál\n",
    "- 1 alatt csökken, 1 felett nő a fertőzés terjedése\n",
    "7. Beoltottak száma (Új, második)\n",
    "8. Tesztek száma, mozgóátlaga, tesztpozitivitás\n",
    "9. Az 5 hullám egymáson: kórházi ápoltak, halálozási arány, tesztek száma\n",
    "- Kézzel ki kell bogarászni mettől-meddig tartottak a hullámok\n",
    "\n"
   ]
  },
  {
   "cell_type": "markdown",
   "metadata": {},
   "source": []
  },
  {
   "cell_type": "markdown",
   "metadata": {},
   "source": [
    "## PanSim - ágens-alapú járványmodell\n",
    "PPKE ITK-n fejlesztettük a járvány előrejelzésére, intézkedések hatásának vizsgálatára\n",
    "179500 ágens – nem a 9.730.000 magyar populáció – normalizálni kell!\n",
    "## Táblázatos kimenet\n",
    "- Oszlopok magyarázata (100-ik sor környéke): https://github.com/khbence/pansim/blob/main/matlab/Readme/Compute_beta.txt\n",
    "- Stochasztikus szimuláció – 10-20 futtatás, ezek átlaga, szórása fontos\n",
    "- 2 adatsor: series_1_*.csv, series_2_*.csv\n",
    "- Szimulációk 2020 szeptember 23-ával kezdődnek\n",
    "\n",
    "### Feladatok\n",
    "1. Olvassunk be 1 CSV-t, nézzük meg a szerkezetét\n",
    "2/ Olvassuk be mind a 10-et, számoljunk minden mezőnek átlagot, szórást (kivéve a sorszám mezőt)\n",
    "- Ábrázoljuk az I1 görbe átlagát, és köré halványan a szórást (fill_between – átlag +/- szórás)\n",
    "3. Ábrázoljuk a következőket\n",
    "- Kórházi ápoltak száma: I5_h + I6_h + R_h oszlopok\n",
    "- Napi új fertőzöttek száma: NI oszlop\n",
    "- Kumulatív fertőzések száma – NI-ből számítva\n",
    "- Aktív fertőzöttek száma: E+I1+I2+I3+I4+I5_h+I6_h\n",
    "- Különböző variánsok aránya: MUT0…5\n",
    "- Eddigi Halálozások száma: D1\n",
    "- Új halálozások száma – D1-ből számítva\n",
    "- Tesztek száma: T+P2, pozitív tesztek száma P1+P2, tesztpozitivitási arány\n",
    "- Karanténozottak száma: Q, karanténozott és beteg QT, beteg de nem karanténozott NQ\n",
    "4. Ahol van összevethető hivatalos adat, tegyük rá az ábrára\n",
    "- Figyelem: nem ugyanott kezdődik és ér véget az adat\n",
    "- Próbáljunk meg valami “szép” megoldást adni arra, hogy több görbe is legyen egy ábrán\n",
    "5. Olvassuk be a másik adatsort is, egy ábrán látszódjon a két adatsor és a hivatalos adat\n",
    "- Számítsuk ki a modell hibáját a két adatsorra a kórházi terhelés adathoz képest\n",
    "\n"
   ]
  },
  {
   "cell_type": "markdown",
   "metadata": {},
   "source": []
  }
 ],
 "metadata": {
  "kernelspec": {
   "display_name": "base",
   "language": "python",
   "name": "python3"
  },
  "language_info": {
   "codemirror_mode": {
    "name": "ipython",
    "version": 3
   },
   "file_extension": ".py",
   "mimetype": "text/x-python",
   "name": "python",
   "nbconvert_exporter": "python",
   "pygments_lexer": "ipython3",
   "version": "3.11.5"
  }
 },
 "nbformat": 4,
 "nbformat_minor": 2
}
