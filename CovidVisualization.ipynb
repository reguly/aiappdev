{
 "cells": [
  {
   "cell_type": "markdown",
   "metadata": {},
   "source": [
    "# COVID-19 járványadatok vizualizációja\n",
    "<a target=\"_blank\" href=\"https://colab.research.google.com/github/reguly/aiappdev/blob/main/CovidVisualization.ipynb\">\n",
    "  <img src=\"https://colab.research.google.com/assets/colab-badge.svg\" alt=\"Open In Colab\"/>\n",
    "</a>"
   ]
  },
  {
   "cell_type": "code",
   "execution_count": null,
   "metadata": {},
   "outputs": [],
   "source": [
    "# Letölthető fájl az adatokkal - magyar statisztikák\n",
    "!wget https://users.itk.ppke.hu/~regiszo/korona_hun.xlsx\n",
    "# Letölthető tömörített fájl az adatokkal - szimulációs eredmények\n",
    "!wget https://users.itk.ppke.hu/~regiszo/covid_data.tgz\n",
    "!tar -xvzf covid_data.tgz"
   ]
  },
  {
   "cell_type": "code",
   "execution_count": null,
   "metadata": {},
   "outputs": [],
   "source": []
  }
 ],
 "metadata": {
  "kernelspec": {
   "display_name": "base",
   "language": "python",
   "name": "python3"
  },
  "language_info": {
   "codemirror_mode": {
    "name": "ipython",
    "version": 3
   },
   "file_extension": ".py",
   "mimetype": "text/x-python",
   "name": "python",
   "nbconvert_exporter": "python",
   "pygments_lexer": "ipython3",
   "version": "3.11.5"
  }
 },
 "nbformat": 4,
 "nbformat_minor": 2
}
