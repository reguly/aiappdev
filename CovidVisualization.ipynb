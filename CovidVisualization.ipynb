{
 "cells": [
  {
   "cell_type": "markdown",
   "metadata": {},
   "source": [
    "# COVID-19 járványadatok vizualizációja\n",
    "<a target=\"_blank\" href=\"https://colab.research.google.com/github/reguly/aiappdev/blob/main/CovidVisualization.ipynb\">\n",
    "  <img src=\"https://colab.research.google.com/assets/colab-badge.svg\" alt=\"Open In Colab\"/>\n",
    "</a>"
   ]
  },
  {
   "cell_type": "code",
   "execution_count": 4,
   "metadata": {},
   "outputs": [
    {
     "name": "stdout",
     "output_type": "stream",
     "text": [
      "--2024-04-06 06:52:26--  https://users.itk.ppke.hu/~regiszo/korona_hun.xlsx\n",
      "Resolving users.itk.ppke.hu (users.itk.ppke.hu)... 193.225.109.33\n",
      "Connecting to users.itk.ppke.hu (users.itk.ppke.hu)|193.225.109.33|:443... connected.\n"
     ]
    },
    {
     "name": "stdout",
     "output_type": "stream",
     "text": [
      "HTTP request sent, awaiting response... 200 OK\n",
      "Length: 1309893 (1.2M) [application/vnd.openxmlformats-officedocument.spreadsheetml.sheet]\n",
      "Saving to: 'korona_hun.xlsx.4'\n",
      "\n",
      "korona_hun.xlsx.4   100%[===================>]   1.25M  1.55MB/s    in 0.8s    \n",
      "\n",
      "2024-04-06 06:52:28 (1.55 MB/s) - 'korona_hun.xlsx.4' saved [1309893/1309893]\n",
      "\n",
      "--2024-04-06 06:52:28--  https://users.itk.ppke.hu/~regiszo/covid_data.zip\n",
      "Resolving users.itk.ppke.hu (users.itk.ppke.hu)... 193.225.109.33\n",
      "Connecting to users.itk.ppke.hu (users.itk.ppke.hu)|193.225.109.33|:443... connected.\n",
      "HTTP request sent, awaiting response... 200 OK\n",
      "Length: 1230950 (1.2M) [application/zip]\n",
      "Saving to: 'covid_data.zip'\n",
      "\n",
      "covid_data.zip      100%[===================>]   1.17M  1.92MB/s    in 0.6s    \n",
      "\n",
      "2024-04-06 06:52:28 (1.92 MB/s) - 'covid_data.zip' saved [1230950/1230950]\n",
      "\n",
      "Archive:  covid_data.zip\n",
      "   creating: covid_data/\n",
      "  inflating: covid_data/series_2_9.csv  \n",
      "  inflating: covid_data/series_1_10.csv  \n",
      "  inflating: covid_data/series_2_8.csv  \n",
      "  inflating: covid_data/series_1_8.csv  \n",
      "  inflating: covid_data/series_1_9.csv  \n",
      "  inflating: covid_data/series_1_7.csv  \n",
      "  inflating: covid_data/series_2_10.csv  \n",
      "  inflating: covid_data/series_1_6.csv  \n",
      "  inflating: covid_data/series_1_4.csv  \n",
      "  inflating: covid_data/series_1_5.csv  \n",
      "  inflating: covid_data/series_1_1.csv  \n",
      "  inflating: covid_data/series_1_2.csv  \n",
      "  inflating: covid_data/series_1_3.csv  \n",
      "  inflating: covid_data/series_2_6.csv  \n",
      "  inflating: covid_data/series_2_7.csv  \n",
      "  inflating: covid_data/series_2_5.csv  \n",
      "  inflating: covid_data/series_2_4.csv  \n",
      "  inflating: covid_data/series_2_1.csv  \n",
      "  inflating: covid_data/series_2_3.csv  \n",
      "  inflating: covid_data/series_2_2.csv  \n"
     ]
    }
   ],
   "source": [
    "# Letölthető fájl az adatokkal - magyar statisztikák\n",
    "!wget https://users.itk.ppke.hu/~regiszo/korona_hun.xlsx\n",
    "# Letölthető tömörített fájl az adatokkal - szimulációs eredmények\n",
    "!wget https://users.itk.ppke.hu/~regiszo/covid_data.zip\n",
    "!unzip covid_data.zip"
   ]
  },
  {
   "cell_type": "markdown",
   "metadata": {},
   "source": [
    "Első lépések: készítsünk ábrát a fertőzöttek számának alakulásáról\n",
    "- X tengelyen dátumok\n",
    "- “Lyukak” az adatban – (hétvége, heti jelentés) “interpoláljunk” (töltsük ki adatokkal a lyukakat amik a lyuk előtti és azt követő értékek közt vannak)\n"
   ]
  },
  {
   "cell_type": "code",
   "execution_count": null,
   "metadata": {},
   "outputs": [],
   "source": []
  },
  {
   "cell_type": "markdown",
   "metadata": {},
   "source": [
    "Készítsünk további ábrákat, diagramokat\n",
    "1. Aktív fertőzöttek – gyógyultak – elhunytak egymáson (stacked)\n",
    "2. Új fertőzöttek száma, és a 7 napos mozgóátlag\n",
    "3. Kórházi ápoltak száma\n",
    "4. Új elhunytak száma\n",
    "- Kórházi ápoltak milyen aránya? Mit mond el ez a kórházi ellátásról, vagy az adott variánsról?\n",
    "- Vessük ezt össze az aktív fertőzöttek száma és a kórházi ápoltak arányával. Mennyire voltak súlyosak az egyes variánsok?\n",
    "5. Hatósági házi karanténban lévők száma\n",
    "- Aktív fertőzöttek arányában? Mikor, hogyan változhattak a szabályok?\n",
    "6. Növekedési faktor – vonal 1.0-nál\n",
    "- 1 alatt csökken, 1 felett nő a fertőzés terjedése\n",
    "7. Beoltottak száma (Új, második)\n",
    "8. Tesztek száma, mozgóátlaga, tesztpozitivitás\n",
    "- Milyen kérdéseket vet fel az így kijött tesztpozitivitás? Valószínű, hogy a pozitív tesztek száma jól leírja a járvány helyzetét?\n",
    "9. Az 5 hullám egymásra vetítve: kórházi ápoltak, halálozási arány, tesztek száma\n",
    "- Próbáljuk meg egy ábrán, 3 alábrával\n",
    "- Kézzel ki kell bogarászni mettől-meddig tartottak a hullámok\n",
    "\n"
   ]
  },
  {
   "cell_type": "markdown",
   "metadata": {},
   "source": []
  },
  {
   "cell_type": "markdown",
   "metadata": {},
   "source": [
    "## PanSim - ágens-alapú járványmodell\n",
    "PPKE ITK-n fejlesztettük a járvány előrejelzésére, intézkedések hatásának vizsgálatára\n",
    "179500 ágens – nem a 9.730.000 magyar populáció – normalizálni kell!\n",
    "## Táblázatos kimenet\n",
    "- Oszlopok magyarázata (100-ik sor környéke): https://github.com/khbence/pansim/blob/main/matlab/Readme/Compute_beta.txt\n",
    "- Stochasztikus szimuláció – 10-20 futtatás, ezek átlaga, szórása fontos\n",
    "- 2 adatsor: series_1_\\*.csv, series_2_\\*.csv\n",
    "- Szimulációk 2020 szeptember 23-ával kezdődnek\n",
    "\n",
    "### Feladatok\n",
    "1. Olvassunk be 1 CSV-t, nézzük meg a szerkezetét\n",
    "- Ábrázoljuk az I1 görbét, a megfelelő dátumokkal a vízszintes tengelyen\n",
    "2. Olvassuk be mind a 10 bemeneti fájlt az első adatsorból\n",
    "- Ábrázoljuk mind a 10 táblázat I1-es oszlopát egy görbén\n",
    "- Számoljunk minden mezőnek átlagot, szórást (kivéve a sorszám mezőt)\n",
    "- Ábrázoljuk az I1 görbe átlagát, és köré halványan a szórást (fill_between – átlag +/- szórás)\n",
    "3. Ábrázoljuk a következőket\n",
    "- Kórházi ápoltak száma: I5_h + I6_h + R_h oszlopok\n",
    "- Napi új fertőzöttek száma: NI oszlop\n",
    "- Kumulatív fertőzések száma – NI-ből számítva\n",
    "- Az egyes hullámok a lakosság hány %-át fertőzhették át?\n",
    "- Aktív fertőzöttek száma: E+I1+I2+I3+I4+I5_h+I6_h\n",
    "- Különböző variánsok százalékos aránya: MUT0…5\n",
    "- Eddigi Halálozások száma: D1\n",
    "- Új halálozások száma – D1-ből számítva\n",
    "- Tesztek száma: T+P2, pozitív tesztek száma P1+P2, tesztpozitivitási arány\n",
    "- Karanténozottak száma: Q, karanténozott és beteg QT, beteg de nem karanténozott NQ\n",
    "4. Ahol van összevethető hivatalos adat, tegyük rá az ábrára\n",
    "- Figyelem: nem ugyanott kezdődik és ér véget az adat. Kumulatív jellegű adatnál máshol is kezdődik! Csak a szimulált időszakra tegyük rá a hivatalosat\n",
    "5. Olvassuk be a másik adatsort is, egy ábrán látszódjon a két adatsor és a hivatalos adat\n",
    "- Próbáljunk meg valami “szép” megoldást adni arra, hogy több görbe is legyen egy ábrán\n",
    "- Számítsuk ki a modell hibáját a két adatsorra a kórházi terhelés adathoz képest\n",
    "\n"
   ]
  },
  {
   "cell_type": "markdown",
   "metadata": {},
   "source": []
  }
 ],
 "metadata": {
  "kernelspec": {
   "display_name": "base",
   "language": "python",
   "name": "python3"
  },
  "language_info": {
   "codemirror_mode": {
    "name": "ipython",
    "version": 3
   },
   "file_extension": ".py",
   "mimetype": "text/x-python",
   "name": "python",
   "nbconvert_exporter": "python",
   "pygments_lexer": "ipython3",
   "version": "3.11.5"
  }
 },
 "nbformat": 4,
 "nbformat_minor": 2
}
